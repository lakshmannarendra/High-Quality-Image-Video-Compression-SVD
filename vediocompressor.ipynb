{
  "cells": [
    {
      "cell_type": "code",
      "execution_count": 4,
      "metadata": {
        "id": "OYCT4c_mi4ZJ"
      },
      "outputs": [],
      "source": [
        "import numpy as np\n",
        "import cv2\n",
        "import matplotlib.pyplot as plt\n"
      ]
    },
    {
      "cell_type": "code",
      "execution_count": 7,
      "metadata": {
        "colab": {
          "base_uri": "https://localhost:8080/"
        },
        "id": "oh9tQ7NUjDIQ",
        "outputId": "8eab9768-a18e-48b3-acef-78d7955a55a9"
      },
      "outputs": [
        {
          "name": "stdout",
          "output_type": "stream",
          "text": [
            "Loaded 132 frames of size 720x1280\n"
          ]
        }
      ],
      "source": [
        "def video_to_matrix(video_path):\n",
        "    cap = cv2.VideoCapture(video_path)\n",
        "    frames = []\n",
        "    while True:\n",
        "        ret, frame = cap.read()\n",
        "        if not ret:\n",
        "            break\n",
        "        # Convert BGR to RGB\n",
        "        frame_rgb = cv2.cvtColor(frame, cv2.COLOR_BGR2RGB)\n",
        "        frames.append(frame_rgb)\n",
        "    cap.release()\n",
        "    frames = np.array(frames)\n",
        "    return frames\n",
        "\n",
        "# Load video frames\n",
        "video_path = r'C:\\Users\\varun kumar\\Downloads\\MDSC\\Video_comp.mp4'  # Replace with your video file path\n",
        "frames = video_to_matrix(video_path)\n",
        "num_frames, height, width, channels = frames.shape\n",
        "print(f\"Loaded {num_frames} frames of size {height}x{width}\")\n"
      ]
    },
    {
      "cell_type": "code",
      "execution_count": 3,
      "metadata": {},
      "outputs": [
        {
          "name": "stdout",
          "output_type": "stream",
          "text": [
            "Collecting opencv-python\n",
            "  Obtaining dependency information for opencv-python from https://files.pythonhosted.org/packages/ec/6c/fab8113424af5049f85717e8e527ca3773299a3c6b02506e66436e19874f/opencv_python-4.10.0.84-cp37-abi3-win_amd64.whl.metadata\n",
            "  Downloading opencv_python-4.10.0.84-cp37-abi3-win_amd64.whl.metadata (20 kB)\n",
            "Requirement already satisfied: numpy>=1.21.2 in c:\\users\\varun kumar\\anaconda3\\lib\\site-packages (from opencv-python) (1.24.3)\n",
            "Downloading opencv_python-4.10.0.84-cp37-abi3-win_amd64.whl (38.8 MB)\n",
            "   ---------------------------------------- 0.0/38.8 MB ? eta -:--:--\n",
            "   ---------------------------------------- 0.0/38.8 MB ? eta -:--:--\n",
            "   ---------------------------------------- 0.0/38.8 MB 653.6 kB/s eta 0:01:00\n",
            "   ---------------------------------------- 0.1/38.8 MB 1.2 MB/s eta 0:00:33\n",
            "   ---------------------------------------- 0.3/38.8 MB 1.8 MB/s eta 0:00:22\n",
            "   ---------------------------------------- 0.3/38.8 MB 1.6 MB/s eta 0:00:25\n",
            "    --------------------------------------- 0.6/38.8 MB 2.3 MB/s eta 0:00:17\n",
            "    --------------------------------------- 0.8/38.8 MB 2.7 MB/s eta 0:00:14\n",
            "    --------------------------------------- 1.0/38.8 MB 2.9 MB/s eta 0:00:14\n",
            "   - -------------------------------------- 1.1/38.8 MB 2.8 MB/s eta 0:00:14\n",
            "   - -------------------------------------- 1.2/38.8 MB 2.8 MB/s eta 0:00:14\n",
            "   - -------------------------------------- 1.3/38.8 MB 2.8 MB/s eta 0:00:14\n",
            "   - -------------------------------------- 1.6/38.8 MB 3.0 MB/s eta 0:00:13\n",
            "   - -------------------------------------- 1.9/38.8 MB 3.3 MB/s eta 0:00:12\n",
            "   -- ------------------------------------- 2.0/38.8 MB 3.1 MB/s eta 0:00:12\n",
            "   -- ------------------------------------- 2.1/38.8 MB 3.2 MB/s eta 0:00:12\n",
            "   -- ------------------------------------- 2.2/38.8 MB 3.1 MB/s eta 0:00:12\n",
            "   -- ------------------------------------- 2.4/38.8 MB 3.2 MB/s eta 0:00:12\n",
            "   -- ------------------------------------- 2.7/38.8 MB 3.3 MB/s eta 0:00:11\n",
            "   -- ------------------------------------- 2.8/38.8 MB 3.3 MB/s eta 0:00:11\n",
            "   -- ------------------------------------- 2.9/38.8 MB 3.3 MB/s eta 0:00:12\n",
            "   --- ------------------------------------ 3.0/38.8 MB 3.1 MB/s eta 0:00:12\n",
            "   --- ------------------------------------ 3.1/38.8 MB 3.1 MB/s eta 0:00:12\n",
            "   --- ------------------------------------ 3.1/38.8 MB 3.0 MB/s eta 0:00:12\n",
            "   --- ------------------------------------ 3.3/38.8 MB 3.0 MB/s eta 0:00:12\n",
            "   --- ------------------------------------ 3.3/38.8 MB 2.9 MB/s eta 0:00:13\n",
            "   --- ------------------------------------ 3.4/38.8 MB 2.9 MB/s eta 0:00:13\n",
            "   --- ------------------------------------ 3.5/38.8 MB 2.9 MB/s eta 0:00:13\n",
            "   --- ------------------------------------ 3.7/38.8 MB 2.9 MB/s eta 0:00:13\n",
            "   --- ------------------------------------ 3.8/38.8 MB 2.8 MB/s eta 0:00:13\n",
            "   ---- ----------------------------------- 4.0/38.8 MB 2.9 MB/s eta 0:00:12\n",
            "   ---- ----------------------------------- 4.2/38.8 MB 3.0 MB/s eta 0:00:12\n",
            "   ---- ----------------------------------- 4.3/38.8 MB 2.9 MB/s eta 0:00:12\n",
            "   ---- ----------------------------------- 4.4/38.8 MB 2.9 MB/s eta 0:00:12\n",
            "   ---- ----------------------------------- 4.5/38.8 MB 2.9 MB/s eta 0:00:12\n",
            "   ---- ----------------------------------- 4.7/38.8 MB 2.9 MB/s eta 0:00:12\n",
            "   ---- ----------------------------------- 4.8/38.8 MB 2.9 MB/s eta 0:00:12\n",
            "   ----- ---------------------------------- 4.9/38.8 MB 2.9 MB/s eta 0:00:12\n",
            "   ----- ---------------------------------- 5.2/38.8 MB 3.0 MB/s eta 0:00:12\n",
            "   ----- ---------------------------------- 5.2/38.8 MB 3.0 MB/s eta 0:00:12\n",
            "   ----- ---------------------------------- 5.7/38.8 MB 3.1 MB/s eta 0:00:11\n",
            "   ------ --------------------------------- 6.0/38.8 MB 3.2 MB/s eta 0:00:11\n",
            "   ------ --------------------------------- 6.2/38.8 MB 3.2 MB/s eta 0:00:11\n",
            "   ------ --------------------------------- 6.5/38.8 MB 3.3 MB/s eta 0:00:10\n",
            "   ------ --------------------------------- 6.8/38.8 MB 3.3 MB/s eta 0:00:10\n",
            "   ------- -------------------------------- 7.1/38.8 MB 3.4 MB/s eta 0:00:10\n",
            "   ------- -------------------------------- 7.3/38.8 MB 3.4 MB/s eta 0:00:10\n",
            "   ------- -------------------------------- 7.5/38.8 MB 3.5 MB/s eta 0:00:10\n",
            "   -------- ------------------------------- 7.8/38.8 MB 3.5 MB/s eta 0:00:09\n",
            "   -------- ------------------------------- 8.1/38.8 MB 3.6 MB/s eta 0:00:09\n",
            "   -------- ------------------------------- 8.4/38.8 MB 3.6 MB/s eta 0:00:09\n",
            "   -------- ------------------------------- 8.7/38.8 MB 3.7 MB/s eta 0:00:09\n",
            "   --------- ------------------------------ 8.9/38.8 MB 3.7 MB/s eta 0:00:09\n",
            "   --------- ------------------------------ 9.2/38.8 MB 3.8 MB/s eta 0:00:08\n",
            "   --------- ------------------------------ 9.4/38.8 MB 3.8 MB/s eta 0:00:08\n",
            "   ---------- ----------------------------- 9.7/38.8 MB 3.8 MB/s eta 0:00:08\n",
            "   ---------- ----------------------------- 10.0/38.8 MB 3.9 MB/s eta 0:00:08\n",
            "   ---------- ----------------------------- 10.3/38.8 MB 4.0 MB/s eta 0:00:08\n",
            "   ---------- ----------------------------- 10.6/38.8 MB 4.1 MB/s eta 0:00:07\n",
            "   ----------- ---------------------------- 10.8/38.8 MB 4.1 MB/s eta 0:00:07\n",
            "   ----------- ---------------------------- 10.8/38.8 MB 4.1 MB/s eta 0:00:07\n",
            "   ----------- ---------------------------- 11.0/38.8 MB 4.0 MB/s eta 0:00:07\n",
            "   ----------- ---------------------------- 11.2/38.8 MB 4.0 MB/s eta 0:00:07\n",
            "   ----------- ---------------------------- 11.3/38.8 MB 4.1 MB/s eta 0:00:07\n",
            "   ----------- ---------------------------- 11.5/38.8 MB 4.1 MB/s eta 0:00:07\n",
            "   ------------ --------------------------- 11.8/38.8 MB 4.1 MB/s eta 0:00:07\n",
            "   ------------ --------------------------- 12.0/38.8 MB 4.1 MB/s eta 0:00:07\n",
            "   ------------ --------------------------- 12.2/38.8 MB 4.1 MB/s eta 0:00:07\n",
            "   ------------ --------------------------- 12.5/38.8 MB 4.3 MB/s eta 0:00:07\n",
            "   ------------- -------------------------- 12.7/38.8 MB 4.3 MB/s eta 0:00:07\n",
            "   ------------- -------------------------- 13.0/38.8 MB 4.3 MB/s eta 0:00:07\n",
            "   ------------- -------------------------- 13.3/38.8 MB 4.5 MB/s eta 0:00:06\n",
            "   -------------- ------------------------- 13.6/38.8 MB 4.7 MB/s eta 0:00:06\n",
            "   -------------- ------------------------- 13.8/38.8 MB 4.8 MB/s eta 0:00:06\n",
            "   -------------- ------------------------- 14.1/38.8 MB 4.9 MB/s eta 0:00:06\n",
            "   -------------- ------------------------- 14.3/38.8 MB 4.9 MB/s eta 0:00:06\n",
            "   -------------- ------------------------- 14.5/38.8 MB 5.0 MB/s eta 0:00:05\n",
            "   --------------- ------------------------ 14.7/38.8 MB 5.1 MB/s eta 0:00:05\n",
            "   --------------- ------------------------ 15.0/38.8 MB 5.2 MB/s eta 0:00:05\n",
            "   --------------- ------------------------ 15.3/38.8 MB 5.3 MB/s eta 0:00:05\n",
            "   --------------- ------------------------ 15.5/38.8 MB 5.4 MB/s eta 0:00:05\n",
            "   ---------------- ----------------------- 15.7/38.8 MB 5.3 MB/s eta 0:00:05\n",
            "   ---------------- ----------------------- 16.0/38.8 MB 5.2 MB/s eta 0:00:05\n",
            "   ---------------- ----------------------- 16.3/38.8 MB 5.2 MB/s eta 0:00:05\n",
            "   ----------------- ---------------------- 16.7/38.8 MB 5.2 MB/s eta 0:00:05\n",
            "   ----------------- ---------------------- 16.9/38.8 MB 5.3 MB/s eta 0:00:05\n",
            "   ----------------- ---------------------- 17.2/38.8 MB 5.3 MB/s eta 0:00:05\n",
            "   ----------------- ---------------------- 17.4/38.8 MB 5.2 MB/s eta 0:00:05\n",
            "   ------------------ --------------------- 17.5/38.8 MB 5.2 MB/s eta 0:00:05\n",
            "   ------------------ --------------------- 17.9/38.8 MB 5.2 MB/s eta 0:00:04\n",
            "   ------------------ --------------------- 18.1/38.8 MB 5.2 MB/s eta 0:00:04\n",
            "   ------------------ --------------------- 18.4/38.8 MB 5.2 MB/s eta 0:00:04\n",
            "   ------------------- -------------------- 18.6/38.8 MB 5.2 MB/s eta 0:00:04\n",
            "   ------------------- -------------------- 18.9/38.8 MB 5.2 MB/s eta 0:00:04\n",
            "   ------------------- -------------------- 19.1/38.8 MB 5.2 MB/s eta 0:00:04\n",
            "   ------------------- -------------------- 19.4/38.8 MB 5.2 MB/s eta 0:00:04\n",
            "   -------------------- ------------------- 19.6/38.8 MB 5.2 MB/s eta 0:00:04\n",
            "   -------------------- ------------------- 19.9/38.8 MB 5.2 MB/s eta 0:00:04\n",
            "   -------------------- ------------------- 20.1/38.8 MB 5.1 MB/s eta 0:00:04\n",
            "   -------------------- ------------------- 20.3/38.8 MB 5.1 MB/s eta 0:00:04\n",
            "   --------------------- ------------------ 20.6/38.8 MB 5.1 MB/s eta 0:00:04\n",
            "   --------------------- ------------------ 20.9/38.8 MB 5.1 MB/s eta 0:00:04\n",
            "   --------------------- ------------------ 21.1/38.8 MB 5.2 MB/s eta 0:00:04\n",
            "   --------------------- ------------------ 21.3/38.8 MB 5.2 MB/s eta 0:00:04\n",
            "   ---------------------- ----------------- 21.5/38.8 MB 5.2 MB/s eta 0:00:04\n",
            "   ---------------------- ----------------- 21.6/38.8 MB 5.3 MB/s eta 0:00:04\n",
            "   ---------------------- ----------------- 21.9/38.8 MB 5.2 MB/s eta 0:00:04\n",
            "   ---------------------- ----------------- 22.1/38.8 MB 5.2 MB/s eta 0:00:04\n",
            "   ---------------------- ----------------- 22.2/38.8 MB 5.2 MB/s eta 0:00:04\n",
            "   ----------------------- ---------------- 22.4/38.8 MB 5.2 MB/s eta 0:00:04\n",
            "   ----------------------- ---------------- 22.7/38.8 MB 5.1 MB/s eta 0:00:04\n",
            "   ----------------------- ---------------- 22.9/38.8 MB 5.1 MB/s eta 0:00:04\n",
            "   ----------------------- ---------------- 23.1/38.8 MB 5.1 MB/s eta 0:00:04\n",
            "   ------------------------ --------------- 23.3/38.8 MB 5.1 MB/s eta 0:00:04\n",
            "   ------------------------ --------------- 23.5/38.8 MB 5.0 MB/s eta 0:00:04\n",
            "   ------------------------ --------------- 23.8/38.8 MB 5.0 MB/s eta 0:00:04\n",
            "   ------------------------ --------------- 24.0/38.8 MB 5.0 MB/s eta 0:00:03\n",
            "   ------------------------ --------------- 24.3/38.8 MB 5.0 MB/s eta 0:00:03\n",
            "   ------------------------- -------------- 24.5/38.8 MB 5.0 MB/s eta 0:00:03\n",
            "   ------------------------- -------------- 24.7/38.8 MB 5.0 MB/s eta 0:00:03\n",
            "   ------------------------- -------------- 24.9/38.8 MB 5.0 MB/s eta 0:00:03\n",
            "   ------------------------- -------------- 25.2/38.8 MB 5.0 MB/s eta 0:00:03\n",
            "   -------------------------- ------------- 25.4/38.8 MB 5.0 MB/s eta 0:00:03\n",
            "   -------------------------- ------------- 25.5/38.8 MB 5.0 MB/s eta 0:00:03\n",
            "   -------------------------- ------------- 25.8/38.8 MB 4.9 MB/s eta 0:00:03\n",
            "   -------------------------- ------------- 26.0/38.8 MB 5.0 MB/s eta 0:00:03\n",
            "   -------------------------- ------------- 26.1/38.8 MB 5.0 MB/s eta 0:00:03\n",
            "   --------------------------- ------------ 26.3/38.8 MB 4.8 MB/s eta 0:00:03\n",
            "   --------------------------- ------------ 26.5/38.8 MB 4.9 MB/s eta 0:00:03\n",
            "   --------------------------- ------------ 26.5/38.8 MB 4.9 MB/s eta 0:00:03\n",
            "   --------------------------- ------------ 26.8/38.8 MB 4.7 MB/s eta 0:00:03\n",
            "   --------------------------- ------------ 27.0/38.8 MB 4.7 MB/s eta 0:00:03\n",
            "   --------------------------- ------------ 27.1/38.8 MB 4.7 MB/s eta 0:00:03\n",
            "   ---------------------------- ----------- 27.3/38.8 MB 4.6 MB/s eta 0:00:03\n",
            "   ---------------------------- ----------- 27.5/38.8 MB 4.7 MB/s eta 0:00:03\n",
            "   ---------------------------- ----------- 27.6/38.8 MB 4.6 MB/s eta 0:00:03\n",
            "   ---------------------------- ----------- 27.8/38.8 MB 4.6 MB/s eta 0:00:03\n",
            "   ---------------------------- ----------- 28.0/38.8 MB 4.6 MB/s eta 0:00:03\n",
            "   ---------------------------- ----------- 28.1/38.8 MB 4.5 MB/s eta 0:00:03\n",
            "   ----------------------------- ---------- 28.3/38.8 MB 4.5 MB/s eta 0:00:03\n",
            "   ----------------------------- ---------- 28.4/38.8 MB 4.5 MB/s eta 0:00:03\n",
            "   ----------------------------- ---------- 28.6/38.8 MB 4.4 MB/s eta 0:00:03\n",
            "   ----------------------------- ---------- 28.8/38.8 MB 4.4 MB/s eta 0:00:03\n",
            "   ----------------------------- ---------- 29.0/38.8 MB 4.4 MB/s eta 0:00:03\n",
            "   ----------------------------- ---------- 29.1/38.8 MB 4.3 MB/s eta 0:00:03\n",
            "   ------------------------------ --------- 29.4/38.8 MB 4.3 MB/s eta 0:00:03\n",
            "   ------------------------------ --------- 29.7/38.8 MB 4.3 MB/s eta 0:00:03\n",
            "   ------------------------------ --------- 29.9/38.8 MB 4.3 MB/s eta 0:00:03\n",
            "   ------------------------------- -------- 30.2/38.8 MB 4.4 MB/s eta 0:00:02\n",
            "   ------------------------------- -------- 30.3/38.8 MB 4.3 MB/s eta 0:00:03\n",
            "   ------------------------------- -------- 30.5/38.8 MB 4.3 MB/s eta 0:00:02\n",
            "   ------------------------------- -------- 30.6/38.8 MB 4.3 MB/s eta 0:00:02\n",
            "   ------------------------------- -------- 30.7/38.8 MB 4.2 MB/s eta 0:00:02\n",
            "   ------------------------------- -------- 30.8/38.8 MB 4.1 MB/s eta 0:00:02\n",
            "   ------------------------------- -------- 30.9/38.8 MB 4.1 MB/s eta 0:00:02\n",
            "   -------------------------------- ------- 31.2/38.8 MB 4.1 MB/s eta 0:00:02\n",
            "   -------------------------------- ------- 31.3/38.8 MB 4.1 MB/s eta 0:00:02\n",
            "   -------------------------------- ------- 31.6/38.8 MB 4.1 MB/s eta 0:00:02\n",
            "   -------------------------------- ------- 31.6/38.8 MB 4.1 MB/s eta 0:00:02\n",
            "   -------------------------------- ------- 31.8/38.8 MB 4.0 MB/s eta 0:00:02\n",
            "   -------------------------------- ------- 32.0/38.8 MB 4.0 MB/s eta 0:00:02\n",
            "   -------------------------------- ------- 32.0/38.8 MB 4.0 MB/s eta 0:00:02\n",
            "   --------------------------------- ------ 32.2/38.8 MB 4.0 MB/s eta 0:00:02\n",
            "   --------------------------------- ------ 32.4/38.8 MB 4.0 MB/s eta 0:00:02\n",
            "   --------------------------------- ------ 32.4/38.8 MB 4.0 MB/s eta 0:00:02\n",
            "   --------------------------------- ------ 32.6/38.8 MB 3.9 MB/s eta 0:00:02\n",
            "   --------------------------------- ------ 32.8/38.8 MB 3.9 MB/s eta 0:00:02\n",
            "   ---------------------------------- ----- 33.1/38.8 MB 3.9 MB/s eta 0:00:02\n",
            "   ---------------------------------- ----- 33.1/38.8 MB 3.9 MB/s eta 0:00:02\n",
            "   ---------------------------------- ----- 33.3/38.8 MB 3.9 MB/s eta 0:00:02\n",
            "   ---------------------------------- ----- 33.5/38.8 MB 3.9 MB/s eta 0:00:02\n",
            "   ---------------------------------- ----- 33.6/38.8 MB 3.9 MB/s eta 0:00:02\n",
            "   ---------------------------------- ----- 33.8/38.8 MB 3.8 MB/s eta 0:00:02\n",
            "   ---------------------------------- ----- 33.9/38.8 MB 3.8 MB/s eta 0:00:02\n",
            "   ----------------------------------- ---- 34.1/38.8 MB 3.8 MB/s eta 0:00:02\n",
            "   ----------------------------------- ---- 34.2/38.8 MB 3.7 MB/s eta 0:00:02\n",
            "   ----------------------------------- ---- 34.4/38.8 MB 3.7 MB/s eta 0:00:02\n",
            "   ----------------------------------- ---- 34.6/38.8 MB 3.7 MB/s eta 0:00:02\n",
            "   ----------------------------------- ---- 34.7/38.8 MB 3.7 MB/s eta 0:00:02\n",
            "   ----------------------------------- ---- 34.7/38.8 MB 3.6 MB/s eta 0:00:02\n",
            "   ----------------------------------- ---- 34.9/38.8 MB 3.6 MB/s eta 0:00:02\n",
            "   ------------------------------------ --- 35.0/38.8 MB 3.6 MB/s eta 0:00:02\n",
            "   ------------------------------------ --- 35.0/38.8 MB 3.5 MB/s eta 0:00:02\n",
            "   ------------------------------------ --- 35.1/38.8 MB 3.5 MB/s eta 0:00:02\n",
            "   ------------------------------------ --- 35.2/38.8 MB 3.5 MB/s eta 0:00:02\n",
            "   ------------------------------------ --- 35.3/38.8 MB 3.4 MB/s eta 0:00:02\n",
            "   ------------------------------------ --- 35.4/38.8 MB 3.4 MB/s eta 0:00:02\n",
            "   ------------------------------------ --- 35.5/38.8 MB 3.4 MB/s eta 0:00:02\n",
            "   ------------------------------------ --- 35.6/38.8 MB 3.3 MB/s eta 0:00:01\n",
            "   ------------------------------------ --- 35.6/38.8 MB 3.3 MB/s eta 0:00:01\n",
            "   ------------------------------------ --- 35.7/38.8 MB 3.2 MB/s eta 0:00:01\n",
            "   ------------------------------------ --- 35.7/38.8 MB 3.2 MB/s eta 0:00:01\n",
            "   ------------------------------------ --- 35.8/38.8 MB 3.2 MB/s eta 0:00:01\n",
            "   ------------------------------------ --- 35.9/38.8 MB 3.2 MB/s eta 0:00:01\n",
            "   ------------------------------------ --- 35.9/38.8 MB 3.1 MB/s eta 0:00:01\n",
            "   ------------------------------------ --- 35.9/38.8 MB 3.1 MB/s eta 0:00:01\n",
            "   ------------------------------------- -- 36.0/38.8 MB 3.1 MB/s eta 0:00:01\n",
            "   ------------------------------------- -- 36.1/38.8 MB 3.0 MB/s eta 0:00:01\n",
            "   ------------------------------------- -- 36.1/38.8 MB 3.0 MB/s eta 0:00:01\n",
            "   ------------------------------------- -- 36.1/38.8 MB 3.0 MB/s eta 0:00:01\n",
            "   ------------------------------------- -- 36.1/38.8 MB 2.9 MB/s eta 0:00:01\n",
            "   ------------------------------------- -- 36.1/38.8 MB 2.9 MB/s eta 0:00:01\n",
            "   ------------------------------------- -- 36.1/38.8 MB 2.9 MB/s eta 0:00:01\n",
            "   ------------------------------------- -- 36.1/38.8 MB 2.8 MB/s eta 0:00:01\n",
            "   ------------------------------------- -- 36.2/38.8 MB 2.8 MB/s eta 0:00:01\n",
            "   ------------------------------------- -- 36.2/38.8 MB 2.7 MB/s eta 0:00:01\n",
            "   ------------------------------------- -- 36.3/38.8 MB 2.7 MB/s eta 0:00:01\n",
            "   ------------------------------------- -- 36.3/38.8 MB 2.7 MB/s eta 0:00:01\n",
            "   ------------------------------------- -- 36.4/38.8 MB 2.7 MB/s eta 0:00:01\n",
            "   ------------------------------------- -- 36.5/38.8 MB 2.7 MB/s eta 0:00:01\n",
            "   ------------------------------------- -- 36.5/38.8 MB 2.7 MB/s eta 0:00:01\n",
            "   ------------------------------------- -- 36.6/38.8 MB 2.6 MB/s eta 0:00:01\n",
            "   ------------------------------------- -- 36.6/38.8 MB 2.6 MB/s eta 0:00:01\n",
            "   ------------------------------------- -- 36.7/38.8 MB 2.6 MB/s eta 0:00:01\n",
            "   ------------------------------------- -- 36.8/38.8 MB 2.6 MB/s eta 0:00:01\n",
            "   ------------------------------------- -- 36.8/38.8 MB 2.6 MB/s eta 0:00:01\n",
            "   -------------------------------------- - 36.9/38.8 MB 2.5 MB/s eta 0:00:01\n",
            "   -------------------------------------- - 37.0/38.8 MB 2.5 MB/s eta 0:00:01\n",
            "   -------------------------------------- - 37.0/38.8 MB 2.5 MB/s eta 0:00:01\n",
            "   -------------------------------------- - 37.1/38.8 MB 2.5 MB/s eta 0:00:01\n",
            "   -------------------------------------- - 37.1/38.8 MB 2.5 MB/s eta 0:00:01\n",
            "   -------------------------------------- - 37.1/38.8 MB 2.5 MB/s eta 0:00:01\n",
            "   -------------------------------------- - 37.2/38.8 MB 2.4 MB/s eta 0:00:01\n",
            "   -------------------------------------- - 37.3/38.8 MB 2.4 MB/s eta 0:00:01\n",
            "   -------------------------------------- - 37.3/38.8 MB 2.4 MB/s eta 0:00:01\n",
            "   -------------------------------------- - 37.3/38.8 MB 2.4 MB/s eta 0:00:01\n",
            "   -------------------------------------- - 37.3/38.8 MB 2.4 MB/s eta 0:00:01\n",
            "   -------------------------------------- - 37.4/38.8 MB 2.3 MB/s eta 0:00:01\n",
            "   -------------------------------------- - 37.4/38.8 MB 2.3 MB/s eta 0:00:01\n",
            "   -------------------------------------- - 37.5/38.8 MB 2.3 MB/s eta 0:00:01\n",
            "   -------------------------------------- - 37.5/38.8 MB 2.3 MB/s eta 0:00:01\n",
            "   -------------------------------------- - 37.5/38.8 MB 2.3 MB/s eta 0:00:01\n",
            "   -------------------------------------- - 37.6/38.8 MB 2.2 MB/s eta 0:00:01\n",
            "   -------------------------------------- - 37.7/38.8 MB 2.2 MB/s eta 0:00:01\n",
            "   -------------------------------------- - 37.7/38.8 MB 2.2 MB/s eta 0:00:01\n",
            "   -------------------------------------- - 37.7/38.8 MB 2.2 MB/s eta 0:00:01\n",
            "   -------------------------------------- - 37.8/38.8 MB 2.2 MB/s eta 0:00:01\n",
            "   -------------------------------------- - 37.9/38.8 MB 2.2 MB/s eta 0:00:01\n",
            "   ---------------------------------------  37.9/38.8 MB 2.1 MB/s eta 0:00:01\n",
            "   ---------------------------------------  38.0/38.8 MB 2.1 MB/s eta 0:00:01\n",
            "   ---------------------------------------  38.1/38.8 MB 2.1 MB/s eta 0:00:01\n",
            "   ---------------------------------------  38.1/38.8 MB 2.1 MB/s eta 0:00:01\n",
            "   ---------------------------------------  38.2/38.8 MB 2.1 MB/s eta 0:00:01\n",
            "   ---------------------------------------  38.2/38.8 MB 2.1 MB/s eta 0:00:01\n",
            "   ---------------------------------------  38.3/38.8 MB 2.1 MB/s eta 0:00:01\n",
            "   ---------------------------------------  38.3/38.8 MB 2.1 MB/s eta 0:00:01\n",
            "   ---------------------------------------  38.5/38.8 MB 2.0 MB/s eta 0:00:01\n",
            "   ---------------------------------------  38.5/38.8 MB 2.0 MB/s eta 0:00:01\n",
            "   ---------------------------------------  38.5/38.8 MB 2.0 MB/s eta 0:00:01\n",
            "   ---------------------------------------  38.6/38.8 MB 2.0 MB/s eta 0:00:01\n",
            "   ---------------------------------------  38.7/38.8 MB 2.0 MB/s eta 0:00:01\n",
            "   ---------------------------------------  38.7/38.8 MB 2.0 MB/s eta 0:00:01\n",
            "   ---------------------------------------  38.8/38.8 MB 2.0 MB/s eta 0:00:01\n",
            "   ---------------------------------------  38.8/38.8 MB 2.0 MB/s eta 0:00:01\n",
            "   ---------------------------------------  38.8/38.8 MB 2.0 MB/s eta 0:00:01\n",
            "   ---------------------------------------  38.8/38.8 MB 2.0 MB/s eta 0:00:01\n",
            "   ---------------------------------------- 38.8/38.8 MB 1.9 MB/s eta 0:00:00\n",
            "Installing collected packages: opencv-python\n",
            "Successfully installed opencv-python-4.10.0.84\n"
          ]
        }
      ],
      "source": [
        "!pip install opencv-python"
      ]
    },
    {
      "cell_type": "code",
      "execution_count": 8,
      "metadata": {
        "colab": {
          "base_uri": "https://localhost:8080/"
        },
        "id": "BqNYY34Fj-Cq",
        "outputId": "a6166ccf-ec59-4d1a-f66d-f0eb8aa9cc2c"
      },
      "outputs": [
        {
          "name": "stdout",
          "output_type": "stream",
          "text": [
            "Frames matrix shape: (132, 2764800)\n"
          ]
        }
      ],
      "source": [
        "def frames_to_2d_matrix(frames):\n",
        "    num_frames, height, width, channels = frames.shape\n",
        "    # Flatten each frame into a 1D vector\n",
        "    frames_reshaped = frames.reshape(num_frames, -1)\n",
        "    return frames_reshaped\n",
        "\n",
        "# Reshape frames into 2D matrix\n",
        "frames_matrix = frames_to_2d_matrix(frames)\n",
        "print(f\"Frames matrix shape: {frames_matrix.shape}\")\n"
      ]
    },
    {
      "cell_type": "code",
      "execution_count": 9,
      "metadata": {
        "colab": {
          "base_uri": "https://localhost:8080/"
        },
        "id": "YkhjFTzmkuYJ",
        "outputId": "e84241f1-9a00-47c6-e591-8ab5c01f0847"
      },
      "outputs": [
        {
          "name": "stdout",
          "output_type": "stream",
          "text": [
            "SVD completed: U-(132, 132), S-(132,), Vt-(132, 2764800)\n"
          ]
        }
      ],
      "source": [
        "# Perform SVD\n",
        "U, S, Vt = np.linalg.svd(frames_matrix, full_matrices=False)\n",
        "print(f\"SVD completed: U-{U.shape}, S-{S.shape}, Vt-{Vt.shape}\")\n"
      ]
    },
    {
      "cell_type": "code",
      "execution_count": 11,
      "metadata": {
        "colab": {
          "base_uri": "https://localhost:8080/"
        },
        "id": "WQHQaaiDkyNy",
        "outputId": "e9c1c08f-5c3e-447f-9200-dccc3f2e60ed"
      },
      "outputs": [
        {
          "name": "stdout",
          "output_type": "stream",
          "text": [
            "k = 1, Reconstruction Error = 0.21787510858243703\n",
            "k = 6, Reconstruction Error = 0.10590572714302751\n",
            "k = 11, Reconstruction Error = 0.08000264562344238\n",
            "Minimum k found: 11 with error = 0.08000264562344238\n"
          ]
        }
      ],
      "source": [
        "def reconstruct_frames(U, S, Vt, k):\n",
        "    U_k = U[:, :k]\n",
        "    S_k = S[:k]\n",
        "    Vt_k = Vt[:k, :]\n",
        "    # Reconstruct the frames matrix\n",
        "    frames_reconstructed = np.dot(U_k, np.dot(np.diag(S_k), Vt_k))\n",
        "    return frames_reconstructed\n",
        "\n",
        "def reconstruction_error(original_matrix, reconstructed_matrix):\n",
        "    # Compute the Frobenius norm of the difference and normalize\n",
        "    error = np.linalg.norm(original_matrix - reconstructed_matrix, 'fro') / np.linalg.norm(original_matrix, 'fro')\n",
        "    return error\n",
        "\n",
        "# Define the error threshold\n",
        "threshold = 0.1  # Adjust the threshold as needed\n",
        "\n",
        "# Initialize variables\n",
        "min_k = None\n",
        "errors = []\n",
        "\n",
        "# Determine the range of k values to test\n",
        "max_k = min(frames_matrix.shape)  # The maximum possible rank\n",
        "k_values = range(1, max_k, 5)  # You can adjust the step size for finer control\n",
        "\n",
        "# Find the minimum k where error <= threshold\n",
        "for k in k_values:\n",
        "    frames_reconstructed = reconstruct_frames(U, S, Vt, k)\n",
        "    error = reconstruction_error(frames_matrix, frames_reconstructed)\n",
        "    errors.append(error)\n",
        "    print(f\"k = {k}, Reconstruction Error = {error}\")\n",
        "    if error <= threshold:\n",
        "        min_k = k\n",
        "        break\n",
        "\n",
        "if min_k is not None:\n",
        "    print(f\"Minimum k found: {min_k} with error = {error}\")\n",
        "else:\n",
        "    print(\"No k found that satisfies the error threshold within the tested range.\")\n"
      ]
    },
    {
      "cell_type": "code",
      "execution_count": 12,
      "metadata": {
        "colab": {
          "base_uri": "https://localhost:8080/",
          "height": 564
        },
        "id": "5qgcl6l9ljZV",
        "outputId": "f8f7c787-a44f-4084-fb4d-e8f5fff80a57"
      },
      "outputs": [
        {
          "data": {
            "image/png": "[encoded data removed]",
            "text/plain": [
              "<Figure size 1000x600 with 1 Axes>"
            ]
          },
          "metadata": {},
          "output_type": "display_data"
        }
      ],
      "source": [
        "# Plot the reconstruction error vs k\n",
        "plt.figure(figsize=(10, 6))\n",
        "plt.plot(k_values[:len(errors)], errors, marker='o')\n",
        "plt.title('Reconstruction Error vs Number of Singular Values (k)')\n",
        "plt.xlabel('Number of Singular Values (k)')\n",
        "plt.ylabel('Normalized Reconstruction Error')\n",
        "plt.grid(True)\n",
        "plt.show()\n"
      ]
    },
    {
      "cell_type": "code",
      "execution_count": 13,
      "metadata": {
        "id": "_XZUHrTqlrBP"
      },
      "outputs": [],
      "source": [
        "if min_k is not None:\n",
        "    # Reconstruct frames matrix with min_k\n",
        "    frames_reconstructed_matrix = reconstruct_frames(U, S, Vt, min_k)\n",
        "    # Reshape back to original dimensions\n",
        "    frames_reconstructed = frames_reconstructed_matrix.reshape((num_frames, height, width, channels))\n",
        "    # Clip values to valid range and convert to uint8\n",
        "    frames_reconstructed = np.clip(frames_reconstructed, 0, 255).astype('uint8')\n",
        "else:\n",
        "    # Handle the case where no suitable k was found\n",
        "    # You might choose to use the maximum k tested\n",
        "    min_k = k_values[-1]\n",
        "    frames_reconstructed_matrix = reconstruct_frames(U, S, Vt, min_k)\n",
        "    frames_reconstructed = frames_reconstructed_matrix.reshape((num_frames, height, width, channels))\n",
        "    frames_reconstructed = np.clip(frames_reconstructed, 0, 255).astype('uint8')\n",
        "    print(f\"Using k = {min_k} for reconstruction due to threshold constraints.\")\n"
      ]
    },
    {
      "cell_type": "code",
      "execution_count": 8,
      "metadata": {
        "colab": {
          "base_uri": "https://localhost:8080/"
        },
        "id": "4GdkBCENluYa",
        "outputId": "da3a8d02-d212-4e90-92c6-2b4caba19d3d"
      },
      "outputs": [
        {
          "name": "stdout",
          "output_type": "stream",
          "text": [
            "Video saved to reconstructed_video.mp4\n"
          ]
        }
      ],
      "source": [
        "def save_video(frames, output_path, fps=20.0):\n",
        "    height, width, channels = frames[0].shape\n",
        "    fourcc = cv2.VideoWriter_fourcc(*'mp4v')  # Change codec as needed\n",
        "    out = cv2.VideoWriter(output_path, fourcc, fps, (width, height))\n",
        "    for frame in frames:\n",
        "        # Convert RGB back to BGR for OpenCV\n",
        "        frame_bgr = cv2.cvtColor(frame, cv2.COLOR_RGB2BGR)\n",
        "        out.write(frame_bgr)\n",
        "    out.release()\n",
        "    print(f\"Video saved to {output_path}\")\n",
        "\n",
        "# Save the reconstructed video\n",
        "output_path = 'reconstructed_video.mp4'  # Specify your output file path\n",
        "save_video(frames_reconstructed, output_path)\n"
      ]
    },
    {
      "cell_type": "code",
      "execution_count": 9,
      "metadata": {
        "colab": {
          "base_uri": "https://localhost:8080/"
        },
        "id": "KSaQ97FplzUP",
        "outputId": "48d141f5-d5d1-46bf-ae54-ad1ca397c9dd"
      },
      "outputs": [
        {
          "name": "stdout",
          "output_type": "stream",
          "text": [
            "Compression Percentage: 91.67%\n"
          ]
        }
      ],
      "source": [
        "def compression_percentage(original_shape, k):\n",
        "    num_frames, total_pixels = original_shape\n",
        "    # Number of elements in original video\n",
        "    original_elements = num_frames * total_pixels\n",
        "\n",
        "    # Number of elements in compressed video\n",
        "    # U_k: num_frames * k\n",
        "    # S_k: k\n",
        "    # Vt_k: k * total_pixels\n",
        "    compressed_elements = num_frames * k + k + k * total_pixels\n",
        "\n",
        "    compression_ratio = (1 - (compressed_elements / original_elements)) * 100\n",
        "    return compression_ratio\n",
        "\n",
        "total_pixels = height * width * channels\n",
        "original_shape = (num_frames, total_pixels)\n",
        "compression_ratio = compression_percentage(original_shape, min_k)\n",
        "print(f\"Compression Percentage: {compression_ratio:.2f}%\")\n"
      ]
    }
  ],
  "metadata": {
    "colab": {
      "provenance": []
    },
    "kernelspec": {
      "display_name": "base",
      "language": "python",
      "name": "python3"
    },
    "language_info": {
      "codemirror_mode": {
        "name": "ipython",
        "version": 3
      },
      "file_extension": ".py",
      "mimetype": "text/x-python",
      "name": "python",
      "nbconvert_exporter": "python",
      "pygments_lexer": "ipython3",
      "version": "3.11.5"
    }
  },
  "nbformat": 4,
  "nbformat_minor": 0
}
